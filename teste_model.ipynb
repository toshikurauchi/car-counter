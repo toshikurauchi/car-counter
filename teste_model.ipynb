{
 "cells": [
  {
   "cell_type": "code",
   "execution_count": 1,
   "metadata": {},
   "outputs": [],
   "source": [
    "from roboflow import Roboflow"
   ]
  },
  {
   "cell_type": "code",
   "execution_count": 2,
   "metadata": {},
   "outputs": [
    {
     "name": "stdout",
     "output_type": "stream",
     "text": [
      "loading Roboflow workspace...\n",
      "loading Roboflow project...\n"
     ]
    }
   ],
   "source": [
    "rf = Roboflow(api_key=\"pLADNgYzu0gPbPstDHtz\")\n",
    "project = rf.workspace(\"carcounter-7mp90\").project(\"car-counter-kbqtm\")\n",
    "version = project.version(3)\n",
    "dataset = version.download(\"yolov11\")"
   ]
  },
  {
   "cell_type": "code",
   "execution_count": 3,
   "metadata": {},
   "outputs": [
    {
     "name": "stdout",
     "output_type": "stream",
     "text": [
      "[WinError 2] The system cannot find the file specified: '{HOME}'\n",
      "c:\\Users\\kikep\\OneDrive\\Documentos\\Insper_Data\\2024.2\\car-counter\n"
     ]
    },
    {
     "name": "stderr",
     "output_type": "stream",
     "text": [
      "This is now an optional IPython functionality, using bookmarks requires you to install the `pickleshare` library.\n"
     ]
    },
    {
     "ename": "",
     "evalue": "",
     "output_type": "error",
     "traceback": [
      "\u001b[1;31mThe Kernel crashed while executing code in the current cell or a previous cell. \n",
      "\u001b[1;31mPlease review the code in the cell(s) to identify a possible cause of the failure. \n",
      "\u001b[1;31mClick <a href='https://aka.ms/vscodeJupyterKernelCrash'>here</a> for more info. \n",
      "\u001b[1;31mView Jupyter <a href='command:jupyter.viewOutput'>log</a> for further details."
     ]
    }
   ],
   "source": [
    "!yolo task=detect mode=train model=yolov8s.pt data={dataset.location}/data.yaml epochs=25 imgsz=800"
   ]
  },
  {
   "cell_type": "code",
   "execution_count": 5,
   "metadata": {},
   "outputs": [
    {
     "name": "stdout",
     "output_type": "stream",
     "text": [
      "Ultralytics YOLOv8.2.88 🚀 Python-3.11.4 torch-2.4.1+cpu CPU (AMD Ryzen 9 6900HS with Radeon Graphics)\n",
      "Model summary (fused): 168 layers, 11,127,132 parameters, 0 gradients, 28.4 GFLOPs\n",
      "WARNING ⚠️ Box and segment counts should be equal, but got len(segments) = 10, len(boxes) = 1049. To resolve this only boxes will be used and all segments will be removed. To avoid this please supply either a detect or segment dataset, not a detect-segment mixed dataset.\n",
      "                   all        322       1049      0.847      0.757      0.842      0.466\n",
      "               bicycle         12         12          1       0.35      0.664      0.331\n",
      "                   car        179        613      0.904       0.99      0.976      0.713\n",
      "             motorbike         38         38      0.633      0.895      0.864      0.433\n",
      "                person        170        386       0.85      0.793      0.865      0.388\n",
      "Speed: 1.8ms preprocess, 239.5ms inference, 0.0ms loss, 0.4ms postprocess per image\n",
      "Results saved to \u001b[1mC:\\Users\\kikep\\OneDrive\\Documentos\\Insper_Data\\2024.2\\car-counter\\runs\\detect\\val\u001b[0m\n",
      "💡 Learn more at https://docs.ultralytics.com/modes/val\n"
     ]
    },
    {
     "name": "stderr",
     "output_type": "stream",
     "text": [
      "\n",
      "\u001b[34m\u001b[1mval: \u001b[0mScanning C:\\Users\\kikep\\OneDrive\\Documentos\\Insper_Data\\2024.2\\car-counter\\Car-Counter-3\\valid\\labels.cache... 322 images, 72 backgrounds, 0 corrupt: 100%|██████████| 322/322 [00:00<?, ?it/s]\n",
      "\u001b[34m\u001b[1mval: \u001b[0mScanning C:\\Users\\kikep\\OneDrive\\Documentos\\Insper_Data\\2024.2\\car-counter\\Car-Counter-3\\valid\\labels.cache... 322 images, 72 backgrounds, 0 corrupt: 100%|██████████| 322/322 [00:00<?, ?it/s]\n",
      "\n",
      "                 Class     Images  Instances      Box(P          R      mAP50  mAP50-95):   0%|          | 0/21 [00:00<?, ?it/s]\n",
      "                 Class     Images  Instances      Box(P          R      mAP50  mAP50-95):   5%|▍         | 1/21 [00:03<01:16,  3.82s/it]\n",
      "                 Class     Images  Instances      Box(P          R      mAP50  mAP50-95):  10%|▉         | 2/21 [00:07<01:13,  3.88s/it]\n",
      "                 Class     Images  Instances      Box(P          R      mAP50  mAP50-95):  14%|█▍        | 3/21 [00:11<01:11,  3.97s/it]\n",
      "                 Class     Images  Instances      Box(P          R      mAP50  mAP50-95):  19%|█▉        | 4/21 [00:16<01:10,  4.12s/it]\n",
      "                 Class     Images  Instances      Box(P          R      mAP50  mAP50-95):  24%|██▍       | 5/21 [00:20<01:07,  4.20s/it]\n",
      "                 Class     Images  Instances      Box(P          R      mAP50  mAP50-95):  29%|██▊       | 6/21 [00:25<01:06,  4.44s/it]\n",
      "                 Class     Images  Instances      Box(P          R      mAP50  mAP50-95):  33%|███▎      | 7/21 [00:29<01:01,  4.37s/it]\n",
      "                 Class     Images  Instances      Box(P          R      mAP50  mAP50-95):  38%|███▊      | 8/21 [00:33<00:54,  4.22s/it]\n",
      "                 Class     Images  Instances      Box(P          R      mAP50  mAP50-95):  43%|████▎     | 9/21 [00:37<00:49,  4.12s/it]\n",
      "                 Class     Images  Instances      Box(P          R      mAP50  mAP50-95):  48%|████▊     | 10/21 [00:41<00:44,  4.07s/it]\n",
      "                 Class     Images  Instances      Box(P          R      mAP50  mAP50-95):  52%|█████▏    | 11/21 [00:45<00:40,  4.05s/it]\n",
      "                 Class     Images  Instances      Box(P          R      mAP50  mAP50-95):  57%|█████▋    | 12/21 [00:49<00:35,  3.98s/it]\n",
      "                 Class     Images  Instances      Box(P          R      mAP50  mAP50-95):  62%|██████▏   | 13/21 [00:53<00:31,  3.92s/it]\n",
      "                 Class     Images  Instances      Box(P          R      mAP50  mAP50-95):  67%|██████▋   | 14/21 [00:56<00:27,  3.91s/it]\n",
      "                 Class     Images  Instances      Box(P          R      mAP50  mAP50-95):  71%|███████▏  | 15/21 [01:00<00:23,  3.90s/it]\n",
      "                 Class     Images  Instances      Box(P          R      mAP50  mAP50-95):  76%|███████▌  | 16/21 [01:04<00:19,  3.90s/it]\n",
      "                 Class     Images  Instances      Box(P          R      mAP50  mAP50-95):  81%|████████  | 17/21 [01:08<00:15,  3.88s/it]\n",
      "                 Class     Images  Instances      Box(P          R      mAP50  mAP50-95):  86%|████████▌ | 18/21 [01:12<00:11,  3.93s/it]\n",
      "                 Class     Images  Instances      Box(P          R      mAP50  mAP50-95):  90%|█████████ | 19/21 [01:17<00:08,  4.13s/it]\n",
      "                 Class     Images  Instances      Box(P          R      mAP50  mAP50-95):  95%|█████████▌| 20/21 [01:21<00:04,  4.23s/it]\n",
      "                 Class     Images  Instances      Box(P          R      mAP50  mAP50-95): 100%|██████████| 21/21 [01:22<00:00,  3.11s/it]\n",
      "                 Class     Images  Instances      Box(P          R      mAP50  mAP50-95): 100%|██████████| 21/21 [01:22<00:00,  3.91s/it]\n"
     ]
    }
   ],
   "source": [
    "!yolo task=detect mode=val model=C:\\Users\\kikep\\OneDrive\\Documentos\\Insper_Data\\2024.2\\car-counter\\runs\\detect\\train\\weights\\best.pt data={dataset.location}/data.yaml"
   ]
  },
  {
   "cell_type": "code",
   "execution_count": 6,
   "metadata": {},
   "outputs": [
    {
     "name": "stdout",
     "output_type": "stream",
     "text": [
      "Ultralytics YOLOv8.2.88 🚀 Python-3.11.4 torch-2.4.1+cpu CPU (AMD Ryzen 9 6900HS with Radeon Graphics)\n",
      "Model summary (fused): 168 layers, 11,127,132 parameters, 0 gradients, 28.4 GFLOPs\n",
      "\n",
      "image 1/161 c:\\Users\\kikep\\OneDrive\\Documentos\\Insper_Data\\2024.2\\car-counter\\Car-Counter-3\\test\\images\\frame_101_png.rf.10e8620078bd89a564a60fec68ddacf6.jpg: 800x800 1 motorbike, 277.4ms\n",
      "image 2/161 c:\\Users\\kikep\\OneDrive\\Documentos\\Insper_Data\\2024.2\\car-counter\\Car-Counter-3\\test\\images\\frame_107_png.rf.1303be4f0e863a58696a77162faa3251.jpg: 800x800 2 cars, 211.1ms\n",
      "image 3/161 c:\\Users\\kikep\\OneDrive\\Documentos\\Insper_Data\\2024.2\\car-counter\\Car-Counter-3\\test\\images\\frame_108_png.rf.edeef91fdb0a58fc1845ef3fe86a283f.jpg: 800x800 4 cars, 2 motorbikes, 179.9ms\n",
      "image 4/161 c:\\Users\\kikep\\OneDrive\\Documentos\\Insper_Data\\2024.2\\car-counter\\Car-Counter-3\\test\\images\\frame_112_png.rf.b0ccd158e67ff5fb953486d32237659a.jpg: 800x800 3 cars, 2 persons, 183.7ms\n",
      "image 5/161 c:\\Users\\kikep\\OneDrive\\Documentos\\Insper_Data\\2024.2\\car-counter\\Car-Counter-3\\test\\images\\frame_115_png.rf.2a2b663fd9b7e6bc7963a238a22d4004.jpg: 800x800 1 car, 1 person, 190.2ms\n",
      "image 6/161 c:\\Users\\kikep\\OneDrive\\Documentos\\Insper_Data\\2024.2\\car-counter\\Car-Counter-3\\test\\images\\frame_119_png.rf.f85ef83bc09ab2a24220da3cfa15395e.jpg: 800x800 5 cars, 1 motorbike, 179.0ms\n",
      "image 7/161 c:\\Users\\kikep\\OneDrive\\Documentos\\Insper_Data\\2024.2\\car-counter\\Car-Counter-3\\test\\images\\frame_121_png.rf.638c52f2f1fdbfcbf8ce691d7c8c967a.jpg: 800x800 2 cars, 185.8ms\n",
      "image 8/161 c:\\Users\\kikep\\OneDrive\\Documentos\\Insper_Data\\2024.2\\car-counter\\Car-Counter-3\\test\\images\\frame_122_png.rf.b8286b6a81d5c8f381f058cb70c2e8fb.jpg: 800x800 4 cars, 1 motorbike, 185.9ms\n",
      "image 9/161 c:\\Users\\kikep\\OneDrive\\Documentos\\Insper_Data\\2024.2\\car-counter\\Car-Counter-3\\test\\images\\frame_123_png.rf.7a63f10e547630b629bdfd570787a85a.jpg: 800x800 4 cars, 1 motorbike, 184.4ms\n",
      "image 10/161 c:\\Users\\kikep\\OneDrive\\Documentos\\Insper_Data\\2024.2\\car-counter\\Car-Counter-3\\test\\images\\frame_134_png.rf.20562f56450c9ac36806cac6339a7d76.jpg: 800x800 1 car, 171.1ms\n",
      "image 11/161 c:\\Users\\kikep\\OneDrive\\Documentos\\Insper_Data\\2024.2\\car-counter\\Car-Counter-3\\test\\images\\frame_138_png.rf.9fd137ba67cadedf30a938356aa748df.jpg: 800x800 1 car, 174.0ms\n",
      "image 12/161 c:\\Users\\kikep\\OneDrive\\Documentos\\Insper_Data\\2024.2\\car-counter\\Car-Counter-3\\test\\images\\frame_13_png.rf.118cb9127181dd0bf4c787334ae5389d.jpg: 800x800 1 car, 2 persons, 174.8ms\n",
      "image 13/161 c:\\Users\\kikep\\OneDrive\\Documentos\\Insper_Data\\2024.2\\car-counter\\Car-Counter-3\\test\\images\\frame_142_png.rf.2c88f178772aa03479fb326b5f088ae4.jpg: 800x800 4 cars, 179.5ms\n",
      "image 14/161 c:\\Users\\kikep\\OneDrive\\Documentos\\Insper_Data\\2024.2\\car-counter\\Car-Counter-3\\test\\images\\frame_147_png.rf.64f102fee2702537480d7d354ff6c793.jpg: 800x800 2 cars, 178.8ms\n",
      "image 15/161 c:\\Users\\kikep\\OneDrive\\Documentos\\Insper_Data\\2024.2\\car-counter\\Car-Counter-3\\test\\images\\frame_147_png.rf.a80a9f8cb4d11d8e308ec9004b77d5ad.jpg: 800x800 4 cars, 180.0ms\n",
      "image 16/161 c:\\Users\\kikep\\OneDrive\\Documentos\\Insper_Data\\2024.2\\car-counter\\Car-Counter-3\\test\\images\\frame_148_png.rf.a61fb1c625846dad9d4a43e3cb251316.jpg: 800x800 4 cars, 184.1ms\n",
      "image 17/161 c:\\Users\\kikep\\OneDrive\\Documentos\\Insper_Data\\2024.2\\car-counter\\Car-Counter-3\\test\\images\\frame_14_png.rf.420c76964eedb19b4fb0c4038fc657f3.jpg: 800x800 7 cars, 1 person, 172.6ms\n",
      "image 18/161 c:\\Users\\kikep\\OneDrive\\Documentos\\Insper_Data\\2024.2\\car-counter\\Car-Counter-3\\test\\images\\frame_151_png.rf.352367200b17f5557c0a544f51ec4c31.jpg: 800x800 4 cars, 181.3ms\n",
      "image 19/161 c:\\Users\\kikep\\OneDrive\\Documentos\\Insper_Data\\2024.2\\car-counter\\Car-Counter-3\\test\\images\\frame_154_png.rf.1e6f26e1079928a7a9d9d7159f35d728.jpg: 800x800 4 cars, 178.1ms\n",
      "image 20/161 c:\\Users\\kikep\\OneDrive\\Documentos\\Insper_Data\\2024.2\\car-counter\\Car-Counter-3\\test\\images\\frame_156_png.rf.33b1f05ad99ad7ff3295b1057aea54d7.jpg: 800x800 4 cars, 183.4ms\n",
      "image 21/161 c:\\Users\\kikep\\OneDrive\\Documentos\\Insper_Data\\2024.2\\car-counter\\Car-Counter-3\\test\\images\\frame_160_png.rf.33966a2a59833880b5cb0ecbccd1987e.jpg: 800x800 4 cars, 177.9ms\n",
      "image 22/161 c:\\Users\\kikep\\OneDrive\\Documentos\\Insper_Data\\2024.2\\car-counter\\Car-Counter-3\\test\\images\\frame_170_png.rf.30205fa79da9d2ab96672ae84263a544.jpg: 800x800 4 cars, 187.0ms\n",
      "image 23/161 c:\\Users\\kikep\\OneDrive\\Documentos\\Insper_Data\\2024.2\\car-counter\\Car-Counter-3\\test\\images\\frame_177_png.rf.df12b4c1a0c623b96b484e3cbacf8bef.jpg: 800x800 (no detections), 187.0ms\n",
      "image 24/161 c:\\Users\\kikep\\OneDrive\\Documentos\\Insper_Data\\2024.2\\car-counter\\Car-Counter-3\\test\\images\\frame_178_png.rf.a0041740513706e4d03ffd8d512d06da.jpg: 800x800 (no detections), 182.8ms\n",
      "image 25/161 c:\\Users\\kikep\\OneDrive\\Documentos\\Insper_Data\\2024.2\\car-counter\\Car-Counter-3\\test\\images\\frame_184_png.rf.8bedb9fde30a75f0910eaefb44664f8d.jpg: 800x800 4 cars, 195.0ms\n",
      "image 26/161 c:\\Users\\kikep\\OneDrive\\Documentos\\Insper_Data\\2024.2\\car-counter\\Car-Counter-3\\test\\images\\frame_185_png.rf.cdc2af6ab4d1405fd2103135d44190e7.jpg: 800x800 4 cars, 185.5ms\n",
      "image 27/161 c:\\Users\\kikep\\OneDrive\\Documentos\\Insper_Data\\2024.2\\car-counter\\Car-Counter-3\\test\\images\\frame_186_png.rf.484d9bccab11588f0f293788c36f5831.jpg: 800x800 4 cars, 169.8ms\n",
      "image 28/161 c:\\Users\\kikep\\OneDrive\\Documentos\\Insper_Data\\2024.2\\car-counter\\Car-Counter-3\\test\\images\\frame_187_png.rf.517be7ab790dd557e96a244f6b619f80.jpg: 800x800 1 car, 178.7ms\n",
      "image 29/161 c:\\Users\\kikep\\OneDrive\\Documentos\\Insper_Data\\2024.2\\car-counter\\Car-Counter-3\\test\\images\\frame_188_png.rf.069297d20501246709a41ec7bcd3658a.jpg: 800x800 4 cars, 180.1ms\n",
      "image 30/161 c:\\Users\\kikep\\OneDrive\\Documentos\\Insper_Data\\2024.2\\car-counter\\Car-Counter-3\\test\\images\\frame_189_png.rf.65b89c67fc734478f8684ebf4a9c043f.jpg: 800x800 2 cars, 170.0ms\n",
      "image 31/161 c:\\Users\\kikep\\OneDrive\\Documentos\\Insper_Data\\2024.2\\car-counter\\Car-Counter-3\\test\\images\\frame_192_png.rf.1dcfe11454d682dda9f6d2e52893508c.jpg: 800x800 2 cars, 166.7ms\n",
      "image 32/161 c:\\Users\\kikep\\OneDrive\\Documentos\\Insper_Data\\2024.2\\car-counter\\Car-Counter-3\\test\\images\\frame_194_png.rf.c114bae4d4668a8f541e760068bc33f0.jpg: 800x800 4 cars, 184.7ms\n",
      "image 33/161 c:\\Users\\kikep\\OneDrive\\Documentos\\Insper_Data\\2024.2\\car-counter\\Car-Counter-3\\test\\images\\frame_194_png.rf.d2885fcca2ba95335d6078d812b1d5a5.jpg: 800x800 3 cars, 1 motorbike, 3 persons, 180.9ms\n",
      "image 34/161 c:\\Users\\kikep\\OneDrive\\Documentos\\Insper_Data\\2024.2\\car-counter\\Car-Counter-3\\test\\images\\frame_195_png.rf.3a8f0d89eb17af14c12860aaf641645e.jpg: 800x800 4 cars, 1 motorbike, 2 persons, 179.2ms\n",
      "image 35/161 c:\\Users\\kikep\\OneDrive\\Documentos\\Insper_Data\\2024.2\\car-counter\\Car-Counter-3\\test\\images\\frame_19_png.rf.58db59973e9029106ea514f2df69de1b.jpg: 800x800 1 car, 3 persons, 187.0ms\n",
      "image 36/161 c:\\Users\\kikep\\OneDrive\\Documentos\\Insper_Data\\2024.2\\car-counter\\Car-Counter-3\\test\\images\\frame_201_png.rf.b6f5cf51ca86cad351d5fa6a66cfb5a9.jpg: 800x800 (no detections), 179.9ms\n",
      "image 37/161 c:\\Users\\kikep\\OneDrive\\Documentos\\Insper_Data\\2024.2\\car-counter\\Car-Counter-3\\test\\images\\frame_207_png.rf.089a7fcc8edef7fa4759cafdcc05d6e4.jpg: 800x800 4 cars, 187.2ms\n",
      "image 38/161 c:\\Users\\kikep\\OneDrive\\Documentos\\Insper_Data\\2024.2\\car-counter\\Car-Counter-3\\test\\images\\frame_208_png.rf.22eca3c59a20597e1d85e60ecace6180.jpg: 800x800 (no detections), 173.6ms\n",
      "image 39/161 c:\\Users\\kikep\\OneDrive\\Documentos\\Insper_Data\\2024.2\\car-counter\\Car-Counter-3\\test\\images\\frame_20_png.rf.a60138c5f0ddce16bd220597eedb3c1d.jpg: 800x800 1 car, 2 persons, 172.3ms\n",
      "image 40/161 c:\\Users\\kikep\\OneDrive\\Documentos\\Insper_Data\\2024.2\\car-counter\\Car-Counter-3\\test\\images\\frame_216_png.rf.406eeb34e036cad5894a31a3237b323c.jpg: 800x800 4 cars, 173.1ms\n",
      "image 41/161 c:\\Users\\kikep\\OneDrive\\Documentos\\Insper_Data\\2024.2\\car-counter\\Car-Counter-3\\test\\images\\frame_223_png.rf.d2544bd8f6504efd20a83021b04f28fd.jpg: 800x800 4 cars, 2 persons, 182.2ms\n",
      "image 42/161 c:\\Users\\kikep\\OneDrive\\Documentos\\Insper_Data\\2024.2\\car-counter\\Car-Counter-3\\test\\images\\frame_22_png.rf.ffb5a952b605406e5d8072966c0c83b2.jpg: 800x800 1 car, 4 persons, 179.7ms\n",
      "image 43/161 c:\\Users\\kikep\\OneDrive\\Documentos\\Insper_Data\\2024.2\\car-counter\\Car-Counter-3\\test\\images\\frame_230_png.rf.21532795e8ab550226f51735b001f687.jpg: 800x800 5 cars, 189.0ms\n",
      "image 44/161 c:\\Users\\kikep\\OneDrive\\Documentos\\Insper_Data\\2024.2\\car-counter\\Car-Counter-3\\test\\images\\frame_231_png.rf.2e4161807afaf1599388bcdb40f4663e.jpg: 800x800 5 cars, 186.9ms\n",
      "image 45/161 c:\\Users\\kikep\\OneDrive\\Documentos\\Insper_Data\\2024.2\\car-counter\\Car-Counter-3\\test\\images\\frame_235_png.rf.0104e0bc07d8042b17c6f14dc313b767.jpg: 800x800 (no detections), 189.1ms\n",
      "image 46/161 c:\\Users\\kikep\\OneDrive\\Documentos\\Insper_Data\\2024.2\\car-counter\\Car-Counter-3\\test\\images\\frame_240_png.rf.a75cb70a7027fed9c43bc5238b9f9106.jpg: 800x800 5 cars, 187.2ms\n",
      "image 47/161 c:\\Users\\kikep\\OneDrive\\Documentos\\Insper_Data\\2024.2\\car-counter\\Car-Counter-3\\test\\images\\frame_248_png.rf.052e153dea52148b5382260f9223efb3.jpg: 800x800 4 cars, 1 person, 185.5ms\n",
      "image 48/161 c:\\Users\\kikep\\OneDrive\\Documentos\\Insper_Data\\2024.2\\car-counter\\Car-Counter-3\\test\\images\\frame_252_png.rf.e373f79db4586c623ec9d141134b4a6f.jpg: 800x800 6 cars, 4 persons, 170.7ms\n",
      "image 49/161 c:\\Users\\kikep\\OneDrive\\Documentos\\Insper_Data\\2024.2\\car-counter\\Car-Counter-3\\test\\images\\frame_254_png.rf.423f0a0807cfe910f6bbec577ca195d1.jpg: 800x800 8 cars, 4 persons, 175.2ms\n",
      "image 50/161 c:\\Users\\kikep\\OneDrive\\Documentos\\Insper_Data\\2024.2\\car-counter\\Car-Counter-3\\test\\images\\frame_255_png.rf.4b3c5109567d1fbb72cb38d70f656c59.jpg: 800x800 1 person, 169.5ms\n",
      "image 51/161 c:\\Users\\kikep\\OneDrive\\Documentos\\Insper_Data\\2024.2\\car-counter\\Car-Counter-3\\test\\images\\frame_256_png.rf.a1b09656f9789a136472bf7ed7b8e212.jpg: 800x800 4 cars, 1 person, 178.5ms\n",
      "image 52/161 c:\\Users\\kikep\\OneDrive\\Documentos\\Insper_Data\\2024.2\\car-counter\\Car-Counter-3\\test\\images\\frame_257_png.rf.444d85ef99f45fc986c7996abe86546f.jpg: 800x800 4 cars, 1 person, 188.2ms\n",
      "image 53/161 c:\\Users\\kikep\\OneDrive\\Documentos\\Insper_Data\\2024.2\\car-counter\\Car-Counter-3\\test\\images\\frame_261_png.rf.c3cdc2666e54786380ad01e27f0e740a.jpg: 800x800 4 cars, 1 person, 188.6ms\n",
      "image 54/161 c:\\Users\\kikep\\OneDrive\\Documentos\\Insper_Data\\2024.2\\car-counter\\Car-Counter-3\\test\\images\\frame_268_png.rf.8d623537aa111794903c3e7ef3284c02.jpg: 800x800 1 car, 1 person, 183.3ms\n",
      "image 55/161 c:\\Users\\kikep\\OneDrive\\Documentos\\Insper_Data\\2024.2\\car-counter\\Car-Counter-3\\test\\images\\frame_275_png.rf.d9dc1c5f9b504b433c3398d9f6240b1f.jpg: 800x800 4 cars, 1 person, 180.1ms\n",
      "image 56/161 c:\\Users\\kikep\\OneDrive\\Documentos\\Insper_Data\\2024.2\\car-counter\\Car-Counter-3\\test\\images\\frame_276_png.rf.cdd7cdb0dfa43d6bc79e7ed7123f5fee.jpg: 800x800 1 car, 1 person, 180.2ms\n",
      "image 57/161 c:\\Users\\kikep\\OneDrive\\Documentos\\Insper_Data\\2024.2\\car-counter\\Car-Counter-3\\test\\images\\frame_279_png.rf.34d4cd3ec031f694e97d4e357082d112.jpg: 800x800 1 car, 1 person, 186.6ms\n",
      "image 58/161 c:\\Users\\kikep\\OneDrive\\Documentos\\Insper_Data\\2024.2\\car-counter\\Car-Counter-3\\test\\images\\frame_285_png.rf.42e9963817b1e5a37460445f4ba73281.jpg: 800x800 5 cars, 1 person, 181.3ms\n",
      "image 59/161 c:\\Users\\kikep\\OneDrive\\Documentos\\Insper_Data\\2024.2\\car-counter\\Car-Counter-3\\test\\images\\frame_287_png.rf.b67c510b009c2ae6707ef582da4562f5.jpg: 800x800 2 cars, 1 person, 162.4ms\n",
      "image 60/161 c:\\Users\\kikep\\OneDrive\\Documentos\\Insper_Data\\2024.2\\car-counter\\Car-Counter-3\\test\\images\\frame_294_png.rf.3a646160b1b5c49fdc94467cfe161685.jpg: 800x800 1 car, 1 person, 163.9ms\n",
      "image 61/161 c:\\Users\\kikep\\OneDrive\\Documentos\\Insper_Data\\2024.2\\car-counter\\Car-Counter-3\\test\\images\\frame_298_png.rf.03cd56f260743c4c0ef761a193c25553.jpg: 800x800 1 car, 177.6ms\n",
      "image 62/161 c:\\Users\\kikep\\OneDrive\\Documentos\\Insper_Data\\2024.2\\car-counter\\Car-Counter-3\\test\\images\\frame_303_png.rf.2e6ca4439c55fc4e72df4c50894f1323.jpg: 800x800 1 bicycle, 5 cars, 1 motorbike, 1 person, 174.0ms\n",
      "image 63/161 c:\\Users\\kikep\\OneDrive\\Documentos\\Insper_Data\\2024.2\\car-counter\\Car-Counter-3\\test\\images\\frame_306_png.rf.8004ed45f18dbd53606a38f3c4d38b7a.jpg: 800x800 9 cars, 2 persons, 185.4ms\n",
      "image 64/161 c:\\Users\\kikep\\OneDrive\\Documentos\\Insper_Data\\2024.2\\car-counter\\Car-Counter-3\\test\\images\\frame_308_png.rf.931ddeb2fcc04a877ec099b31486ad7c.jpg: 800x800 3 cars, 1 person, 170.3ms\n",
      "image 65/161 c:\\Users\\kikep\\OneDrive\\Documentos\\Insper_Data\\2024.2\\car-counter\\Car-Counter-3\\test\\images\\frame_314_png.rf.032793c307811fa428de169c1244680f.jpg: 800x800 1 car, 186.7ms\n",
      "image 66/161 c:\\Users\\kikep\\OneDrive\\Documentos\\Insper_Data\\2024.2\\car-counter\\Car-Counter-3\\test\\images\\frame_315_png.rf.cf6086a5e835da6123832a7ccdf971e9.jpg: 800x800 1 car, 164.3ms\n",
      "image 67/161 c:\\Users\\kikep\\OneDrive\\Documentos\\Insper_Data\\2024.2\\car-counter\\Car-Counter-3\\test\\images\\frame_327_png.rf.2d9db1802ebe882cee5e53555486aed0.jpg: 800x800 1 bicycle, 5 cars, 2 motorbikes, 182.9ms\n",
      "image 68/161 c:\\Users\\kikep\\OneDrive\\Documentos\\Insper_Data\\2024.2\\car-counter\\Car-Counter-3\\test\\images\\frame_329_png.rf.ec5b834fbd916293b7da8a49ad16b20e.jpg: 800x800 3 cars, 163.7ms\n",
      "image 69/161 c:\\Users\\kikep\\OneDrive\\Documentos\\Insper_Data\\2024.2\\car-counter\\Car-Counter-3\\test\\images\\frame_32_png.rf.2efbe5c0421d0d208bb5cbca5de363f3.jpg: 800x800 5 cars, 6 persons, 162.1ms\n",
      "image 70/161 c:\\Users\\kikep\\OneDrive\\Documentos\\Insper_Data\\2024.2\\car-counter\\Car-Counter-3\\test\\images\\frame_332_png.rf.0da86c777f432f8b1a38ebe4eebc7e33.jpg: 800x800 9 cars, 5 persons, 184.0ms\n",
      "image 71/161 c:\\Users\\kikep\\OneDrive\\Documentos\\Insper_Data\\2024.2\\car-counter\\Car-Counter-3\\test\\images\\frame_338_png.rf.72e334926c525594f5711222ed8b2310.jpg: 800x800 9 cars, 2 motorbikes, 3 persons, 158.9ms\n",
      "image 72/161 c:\\Users\\kikep\\OneDrive\\Documentos\\Insper_Data\\2024.2\\car-counter\\Car-Counter-3\\test\\images\\frame_339_png.rf.d04d8c10673e8212c933f723c98e9145.jpg: 800x800 2 cars, 170.7ms\n",
      "image 73/161 c:\\Users\\kikep\\OneDrive\\Documentos\\Insper_Data\\2024.2\\car-counter\\Car-Counter-3\\test\\images\\frame_347_png.rf.24751c898ea3105e8dd19f3ee9878251.jpg: 800x800 (no detections), 154.8ms\n",
      "image 74/161 c:\\Users\\kikep\\OneDrive\\Documentos\\Insper_Data\\2024.2\\car-counter\\Car-Counter-3\\test\\images\\frame_348_png.rf.11899f56109ff937246097b92bb3656f.jpg: 800x800 5 cars, 3 persons, 186.7ms\n",
      "image 75/161 c:\\Users\\kikep\\OneDrive\\Documentos\\Insper_Data\\2024.2\\car-counter\\Car-Counter-3\\test\\images\\frame_34_png.rf.e51c42a895419f557b82a0353194492a.jpg: 800x800 6 cars, 2 persons, 175.1ms\n",
      "image 76/161 c:\\Users\\kikep\\OneDrive\\Documentos\\Insper_Data\\2024.2\\car-counter\\Car-Counter-3\\test\\images\\frame_353_png.rf.8d73c17bd152382e2e1858600be8bdfc.jpg: 800x800 5 cars, 3 persons, 184.6ms\n",
      "image 77/161 c:\\Users\\kikep\\OneDrive\\Documentos\\Insper_Data\\2024.2\\car-counter\\Car-Counter-3\\test\\images\\frame_364_png.rf.6230ca2717d5046e3c3153ec090cb077.jpg: 800x800 1 motorbike, 178.6ms\n",
      "image 78/161 c:\\Users\\kikep\\OneDrive\\Documentos\\Insper_Data\\2024.2\\car-counter\\Car-Counter-3\\test\\images\\frame_36_png.rf.b25586264c00c1a43694af2f47fec107.jpg: 800x800 3 persons, 187.4ms\n",
      "image 79/161 c:\\Users\\kikep\\OneDrive\\Documentos\\Insper_Data\\2024.2\\car-counter\\Car-Counter-3\\test\\images\\frame_371_png.rf.54e5b6b86b0b0985f656afadb7ae3c84.jpg: 800x800 (no detections), 186.4ms\n",
      "image 80/161 c:\\Users\\kikep\\OneDrive\\Documentos\\Insper_Data\\2024.2\\car-counter\\Car-Counter-3\\test\\images\\frame_374_png.rf.b060f1789973409c4c373a917466f921.jpg: 800x800 (no detections), 176.0ms\n",
      "image 81/161 c:\\Users\\kikep\\OneDrive\\Documentos\\Insper_Data\\2024.2\\car-counter\\Car-Counter-3\\test\\images\\frame_37_png.rf.fedc89e32523e37e070dbedc44fd2a8b.jpg: 800x800 6 cars, 6 persons, 176.5ms\n",
      "image 82/161 c:\\Users\\kikep\\OneDrive\\Documentos\\Insper_Data\\2024.2\\car-counter\\Car-Counter-3\\test\\images\\frame_383_png.rf.3d09f11c9cef35cfb4d1ff2399b8ca8e.jpg: 800x800 (no detections), 185.2ms\n",
      "image 83/161 c:\\Users\\kikep\\OneDrive\\Documentos\\Insper_Data\\2024.2\\car-counter\\Car-Counter-3\\test\\images\\frame_384_png.rf.0fba0179523643db2484532f05be07f8.jpg: 800x800 6 cars, 3 persons, 154.5ms\n",
      "image 84/161 c:\\Users\\kikep\\OneDrive\\Documentos\\Insper_Data\\2024.2\\car-counter\\Car-Counter-3\\test\\images\\frame_38_png.rf.72af42f04c5e0c662af8eceab2c11f92.jpg: 800x800 6 cars, 173.5ms\n",
      "image 85/161 c:\\Users\\kikep\\OneDrive\\Documentos\\Insper_Data\\2024.2\\car-counter\\Car-Counter-3\\test\\images\\frame_395_png.rf.d961dc719d03c87f63b4f80c35ddafdf.jpg: 800x800 5 cars, 1 person, 146.2ms\n",
      "image 86/161 c:\\Users\\kikep\\OneDrive\\Documentos\\Insper_Data\\2024.2\\car-counter\\Car-Counter-3\\test\\images\\frame_39_png.rf.df073bb66b164fc2e83e6999e39ca343.jpg: 800x800 5 cars, 1 person, 176.3ms\n",
      "image 87/161 c:\\Users\\kikep\\OneDrive\\Documentos\\Insper_Data\\2024.2\\car-counter\\Car-Counter-3\\test\\images\\frame_3_png.rf.95a24b90df5836d54d05c0f3f3dab74f.jpg: 800x800 5 cars, 12 persons, 170.7ms\n",
      "image 88/161 c:\\Users\\kikep\\OneDrive\\Documentos\\Insper_Data\\2024.2\\car-counter\\Car-Counter-3\\test\\images\\frame_405_png.rf.a2982b7217915379e4dd6e5c0e0631fa.jpg: 800x800 (no detections), 170.9ms\n",
      "image 89/161 c:\\Users\\kikep\\OneDrive\\Documentos\\Insper_Data\\2024.2\\car-counter\\Car-Counter-3\\test\\images\\frame_406_png.rf.68507b77771a070b20096d95058b7108.jpg: 800x800 5 cars, 1 motorbike, 6 persons, 167.9ms\n",
      "image 90/161 c:\\Users\\kikep\\OneDrive\\Documentos\\Insper_Data\\2024.2\\car-counter\\Car-Counter-3\\test\\images\\frame_409_png.rf.072c12fc115462911a547edebed99b3a.jpg: 800x800 (no detections), 164.6ms\n",
      "image 91/161 c:\\Users\\kikep\\OneDrive\\Documentos\\Insper_Data\\2024.2\\car-counter\\Car-Counter-3\\test\\images\\frame_40_png.rf.4e15a5feb52cfa840153f76d89d03472.jpg: 800x800 4 cars, 163.1ms\n",
      "image 92/161 c:\\Users\\kikep\\OneDrive\\Documentos\\Insper_Data\\2024.2\\car-counter\\Car-Counter-3\\test\\images\\frame_415_png.rf.edb698bafd9162f062303579a8916dc5.jpg: 800x800 (no detections), 179.7ms\n",
      "image 93/161 c:\\Users\\kikep\\OneDrive\\Documentos\\Insper_Data\\2024.2\\car-counter\\Car-Counter-3\\test\\images\\frame_418_png.rf.6e18b78dc1cbf3648dc944428c602540.jpg: 800x800 5 cars, 1 motorbike, 4 persons, 154.5ms\n",
      "image 94/161 c:\\Users\\kikep\\OneDrive\\Documentos\\Insper_Data\\2024.2\\car-counter\\Car-Counter-3\\test\\images\\frame_422_png.rf.9b728b33e5a37e5990a5c13e193f24ac.jpg: 800x800 (no detections), 164.4ms\n",
      "image 95/161 c:\\Users\\kikep\\OneDrive\\Documentos\\Insper_Data\\2024.2\\car-counter\\Car-Counter-3\\test\\images\\frame_426_png.rf.8ec17e5c8e606963a7681fc1d51915ab.jpg: 800x800 7 cars, 1 motorbike, 4 persons, 169.6ms\n",
      "image 96/161 c:\\Users\\kikep\\OneDrive\\Documentos\\Insper_Data\\2024.2\\car-counter\\Car-Counter-3\\test\\images\\frame_42_png.rf.b75670212ede3d2d7fffa33bd258767e.jpg: 800x800 6 cars, 181.4ms\n",
      "image 97/161 c:\\Users\\kikep\\OneDrive\\Documentos\\Insper_Data\\2024.2\\car-counter\\Car-Counter-3\\test\\images\\frame_431_png.rf.7b63a7d9f7a1f2430ca2afded6bd5ed7.jpg: 800x800 6 cars, 1 motorbike, 3 persons, 182.2ms\n",
      "image 98/161 c:\\Users\\kikep\\OneDrive\\Documentos\\Insper_Data\\2024.2\\car-counter\\Car-Counter-3\\test\\images\\frame_434_png.rf.1ba12641112af457cb3192260655a03f.jpg: 800x800 5 cars, 1 motorbike, 3 persons, 182.3ms\n",
      "image 99/161 c:\\Users\\kikep\\OneDrive\\Documentos\\Insper_Data\\2024.2\\car-counter\\Car-Counter-3\\test\\images\\frame_436_png.rf.fd2a9ce45f12c729703cab1e8fc33d7e.jpg: 800x800 (no detections), 170.9ms\n",
      "image 100/161 c:\\Users\\kikep\\OneDrive\\Documentos\\Insper_Data\\2024.2\\car-counter\\Car-Counter-3\\test\\images\\frame_437_png.rf.ac54e9fb6f7299681f35da7bf381784c.jpg: 800x800 6 cars, 2 motorbikes, 3 persons, 182.4ms\n",
      "image 101/161 c:\\Users\\kikep\\OneDrive\\Documentos\\Insper_Data\\2024.2\\car-counter\\Car-Counter-3\\test\\images\\frame_442_png.rf.a0daa10db2ccc7fada35f8d52acc4a6d.jpg: 800x800 1 person, 152.4ms\n",
      "image 102/161 c:\\Users\\kikep\\OneDrive\\Documentos\\Insper_Data\\2024.2\\car-counter\\Car-Counter-3\\test\\images\\frame_443_png.rf.30917563b67704dedb96d39d05f4cb70.jpg: 800x800 6 cars, 2 motorbikes, 3 persons, 176.2ms\n",
      "image 103/161 c:\\Users\\kikep\\OneDrive\\Documentos\\Insper_Data\\2024.2\\car-counter\\Car-Counter-3\\test\\images\\frame_444_png.rf.7a0a79d445d7c85064f2017d80e8a2d2.jpg: 800x800 1 person, 173.8ms\n",
      "image 104/161 c:\\Users\\kikep\\OneDrive\\Documentos\\Insper_Data\\2024.2\\car-counter\\Car-Counter-3\\test\\images\\frame_458_png.rf.c4259b97aa7c39a913785401a51eb33c.jpg: 800x800 1 person, 164.9ms\n",
      "image 105/161 c:\\Users\\kikep\\OneDrive\\Documentos\\Insper_Data\\2024.2\\car-counter\\Car-Counter-3\\test\\images\\frame_45_png.rf.a2d2c1df83d07d0260ca36ff414d81ea.jpg: 800x800 1 person, 170.8ms\n",
      "image 106/161 c:\\Users\\kikep\\OneDrive\\Documentos\\Insper_Data\\2024.2\\car-counter\\Car-Counter-3\\test\\images\\frame_463_png.rf.81ea3aaf1fc24fdc214e79933a466213.jpg: 800x800 4 persons, 194.8ms\n",
      "image 107/161 c:\\Users\\kikep\\OneDrive\\Documentos\\Insper_Data\\2024.2\\car-counter\\Car-Counter-3\\test\\images\\frame_474_png.rf.592998c22b85434129fdbe0bf2de8165.jpg: 800x800 4 persons, 173.8ms\n",
      "image 108/161 c:\\Users\\kikep\\OneDrive\\Documentos\\Insper_Data\\2024.2\\car-counter\\Car-Counter-3\\test\\images\\frame_475_png.rf.0e7ce68252f9e9b83ea5454e794cdad0.jpg: 800x800 2 persons, 175.4ms\n",
      "image 109/161 c:\\Users\\kikep\\OneDrive\\Documentos\\Insper_Data\\2024.2\\car-counter\\Car-Counter-3\\test\\images\\frame_489_png.rf.a2760389428149e387754c316209a087.jpg: 800x800 2 persons, 167.6ms\n",
      "image 110/161 c:\\Users\\kikep\\OneDrive\\Documentos\\Insper_Data\\2024.2\\car-counter\\Car-Counter-3\\test\\images\\frame_493_png.rf.50014a7c46eaeb5aa2c5499cfc34dce4.jpg: 800x800 2 persons, 172.2ms\n",
      "image 111/161 c:\\Users\\kikep\\OneDrive\\Documentos\\Insper_Data\\2024.2\\car-counter\\Car-Counter-3\\test\\images\\frame_496_png.rf.f959fb61548029f343f61840b6798f3f.jpg: 800x800 1 person, 187.5ms\n",
      "image 112/161 c:\\Users\\kikep\\OneDrive\\Documentos\\Insper_Data\\2024.2\\car-counter\\Car-Counter-3\\test\\images\\frame_49_png.rf.3ae8b62ad757f7934e02ecc8f2a6490c.jpg: 800x800 1 person, 170.8ms\n",
      "image 113/161 c:\\Users\\kikep\\OneDrive\\Documentos\\Insper_Data\\2024.2\\car-counter\\Car-Counter-3\\test\\images\\frame_511_png.rf.4b8ccb814fbc3a0541809fd50f8ebdb5.jpg: 800x800 1 car, 2 persons, 162.5ms\n",
      "image 114/161 c:\\Users\\kikep\\OneDrive\\Documentos\\Insper_Data\\2024.2\\car-counter\\Car-Counter-3\\test\\images\\frame_519_png.rf.961f47e771f4fc89314b1d0cde33a6bd.jpg: 800x800 2 cars, 1 person, 184.7ms\n",
      "image 115/161 c:\\Users\\kikep\\OneDrive\\Documentos\\Insper_Data\\2024.2\\car-counter\\Car-Counter-3\\test\\images\\frame_51_png.rf.d5464a18501595fe36a16a689289157f.jpg: 800x800 1 person, 182.5ms\n",
      "image 116/161 c:\\Users\\kikep\\OneDrive\\Documentos\\Insper_Data\\2024.2\\car-counter\\Car-Counter-3\\test\\images\\frame_540_png.rf.870dbf657f37a2353c6b7818d42df4a9.jpg: 800x800 (no detections), 163.5ms\n",
      "image 117/161 c:\\Users\\kikep\\OneDrive\\Documentos\\Insper_Data\\2024.2\\car-counter\\Car-Counter-3\\test\\images\\frame_550_png.rf.4ee6408ac260a4e985092573286953fa.jpg: 800x800 1 car, 1 person, 183.8ms\n",
      "image 118/161 c:\\Users\\kikep\\OneDrive\\Documentos\\Insper_Data\\2024.2\\car-counter\\Car-Counter-3\\test\\images\\frame_553_png.rf.39742dbfd0f0e5c0f6df8f75681f1c8b.jpg: 800x800 1 car, 1 person, 169.6ms\n",
      "image 119/161 c:\\Users\\kikep\\OneDrive\\Documentos\\Insper_Data\\2024.2\\car-counter\\Car-Counter-3\\test\\images\\frame_56_png.rf.6dbc5a91832d998a6813a4187864b0cc.jpg: 800x800 4 cars, 4 persons, 180.3ms\n",
      "image 120/161 c:\\Users\\kikep\\OneDrive\\Documentos\\Insper_Data\\2024.2\\car-counter\\Car-Counter-3\\test\\images\\frame_579_png.rf.c31329fc630bc9d91a0b270d89e3d02d.jpg: 800x800 1 person, 147.4ms\n",
      "image 121/161 c:\\Users\\kikep\\OneDrive\\Documentos\\Insper_Data\\2024.2\\car-counter\\Car-Counter-3\\test\\images\\frame_588_png.rf.b884bc2f033c53b7b0afcf970c59477b.jpg: 800x800 3 motorbikes, 178.6ms\n",
      "image 122/161 c:\\Users\\kikep\\OneDrive\\Documentos\\Insper_Data\\2024.2\\car-counter\\Car-Counter-3\\test\\images\\frame_594_png.rf.187cb9a8e15b39c30d998b3427eb4109.jpg: 800x800 (no detections), 157.2ms\n",
      "image 123/161 c:\\Users\\kikep\\OneDrive\\Documentos\\Insper_Data\\2024.2\\car-counter\\Car-Counter-3\\test\\images\\frame_59_png.rf.2009f85916709329746606840b1e87bc.jpg: 800x800 1 person, 163.6ms\n",
      "image 124/161 c:\\Users\\kikep\\OneDrive\\Documentos\\Insper_Data\\2024.2\\car-counter\\Car-Counter-3\\test\\images\\frame_620_png.rf.2a1bb97ccd45b68565400ecb6e586d5e.jpg: 800x800 1 person, 181.1ms\n",
      "image 125/161 c:\\Users\\kikep\\OneDrive\\Documentos\\Insper_Data\\2024.2\\car-counter\\Car-Counter-3\\test\\images\\frame_624_png.rf.fd3f6028beaf905aaf40d6bbcbe6bbb3.jpg: 800x800 3 persons, 188.4ms\n",
      "image 126/161 c:\\Users\\kikep\\OneDrive\\Documentos\\Insper_Data\\2024.2\\car-counter\\Car-Counter-3\\test\\images\\frame_635_png.rf.ed0559bef5660f645380811938ea7b03.jpg: 800x800 1 car, 4 persons, 180.8ms\n",
      "image 127/161 c:\\Users\\kikep\\OneDrive\\Documentos\\Insper_Data\\2024.2\\car-counter\\Car-Counter-3\\test\\images\\frame_672_png.rf.cdb6d248f3454d9c2a373dd0d8f6dd24.jpg: 800x800 8 persons, 178.2ms\n",
      "image 128/161 c:\\Users\\kikep\\OneDrive\\Documentos\\Insper_Data\\2024.2\\car-counter\\Car-Counter-3\\test\\images\\frame_677_png.rf.61c69f6cc4f5c4ba8ea68630387332a7.jpg: 800x800 5 persons, 183.3ms\n",
      "image 129/161 c:\\Users\\kikep\\OneDrive\\Documentos\\Insper_Data\\2024.2\\car-counter\\Car-Counter-3\\test\\images\\frame_680_png.rf.257db639003a417d13bcdf1f09f2a949.jpg: 800x800 6 persons, 141.9ms\n",
      "image 130/161 c:\\Users\\kikep\\OneDrive\\Documentos\\Insper_Data\\2024.2\\car-counter\\Car-Counter-3\\test\\images\\frame_692_png.rf.0f1ddc914ec0804856372d2261820f2d.jpg: 800x800 4 persons, 186.7ms\n",
      "image 131/161 c:\\Users\\kikep\\OneDrive\\Documentos\\Insper_Data\\2024.2\\car-counter\\Car-Counter-3\\test\\images\\frame_727_png.rf.dbc4b71c336ef92c1c1c93ca94483182.jpg: 800x800 1 car, 2 persons, 170.4ms\n",
      "image 132/161 c:\\Users\\kikep\\OneDrive\\Documentos\\Insper_Data\\2024.2\\car-counter\\Car-Counter-3\\test\\images\\frame_729_png.rf.a98d9dda2d830d3f91259d4fb597a921.jpg: 800x800 2 cars, 5 persons, 172.2ms\n",
      "image 133/161 c:\\Users\\kikep\\OneDrive\\Documentos\\Insper_Data\\2024.2\\car-counter\\Car-Counter-3\\test\\images\\frame_72_png.rf.92beb63ae56caa0be780c2a8376f7fdc.jpg: 800x800 2 cars, 1 person, 170.6ms\n",
      "image 134/161 c:\\Users\\kikep\\OneDrive\\Documentos\\Insper_Data\\2024.2\\car-counter\\Car-Counter-3\\test\\images\\frame_732_png.rf.c5cb424e21566c462e32c72b0493cefd.jpg: 800x800 1 car, 1 person, 146.8ms\n",
      "image 135/161 c:\\Users\\kikep\\OneDrive\\Documentos\\Insper_Data\\2024.2\\car-counter\\Car-Counter-3\\test\\images\\frame_740_png.rf.55287a56ceab1fe97b1fb14e3740eef4.jpg: 800x800 (no detections), 163.2ms\n",
      "image 136/161 c:\\Users\\kikep\\OneDrive\\Documentos\\Insper_Data\\2024.2\\car-counter\\Car-Counter-3\\test\\images\\frame_750_png.rf.76a0ac7a10ace5e2bb0956334c6a0a56.jpg: 800x800 1 person, 186.2ms\n",
      "image 137/161 c:\\Users\\kikep\\OneDrive\\Documentos\\Insper_Data\\2024.2\\car-counter\\Car-Counter-3\\test\\images\\frame_764_png.rf.8ef6b7246a87803c531a8ced42bcc6ea.jpg: 800x800 1 person, 171.4ms\n",
      "image 138/161 c:\\Users\\kikep\\OneDrive\\Documentos\\Insper_Data\\2024.2\\car-counter\\Car-Counter-3\\test\\images\\frame_768_png.rf.0bf570acf70f5e70bfaa1f8152958291.jpg: 800x800 1 person, 158.1ms\n",
      "image 139/161 c:\\Users\\kikep\\OneDrive\\Documentos\\Insper_Data\\2024.2\\car-counter\\Car-Counter-3\\test\\images\\frame_76_png.rf.8aba700afd4329b79aebee01c0796abd.jpg: 800x800 2 cars, 1 person, 157.3ms\n",
      "image 140/161 c:\\Users\\kikep\\OneDrive\\Documentos\\Insper_Data\\2024.2\\car-counter\\Car-Counter-3\\test\\images\\frame_777_png.rf.f1d9ed18ab6d6ff084dff1d4392ac5fd.jpg: 800x800 1 person, 172.4ms\n",
      "image 141/161 c:\\Users\\kikep\\OneDrive\\Documentos\\Insper_Data\\2024.2\\car-counter\\Car-Counter-3\\test\\images\\frame_779_png.rf.d97ece70b09c9caff4711e6e18837bd6.jpg: 800x800 1 person, 178.9ms\n",
      "image 142/161 c:\\Users\\kikep\\OneDrive\\Documentos\\Insper_Data\\2024.2\\car-counter\\Car-Counter-3\\test\\images\\frame_804_png.rf.873b022c32913e9300cd3f7bc8ba44c4.jpg: 800x800 1 car, 1 person, 179.8ms\n",
      "image 143/161 c:\\Users\\kikep\\OneDrive\\Documentos\\Insper_Data\\2024.2\\car-counter\\Car-Counter-3\\test\\images\\frame_809_png.rf.c81b813346ad236a305b6fa74b464554.jpg: 800x800 2 cars, 174.9ms\n",
      "image 144/161 c:\\Users\\kikep\\OneDrive\\Documentos\\Insper_Data\\2024.2\\car-counter\\Car-Counter-3\\test\\images\\frame_810_png.rf.5f098b46b1a5fc3b6d76a35fcd63b95f.jpg: 800x800 2 cars, 159.5ms\n",
      "image 145/161 c:\\Users\\kikep\\OneDrive\\Documentos\\Insper_Data\\2024.2\\car-counter\\Car-Counter-3\\test\\images\\frame_824_png.rf.c55461930c7506876ac6e3fb595445f3.jpg: 800x800 (no detections), 175.2ms\n",
      "image 146/161 c:\\Users\\kikep\\OneDrive\\Documentos\\Insper_Data\\2024.2\\car-counter\\Car-Counter-3\\test\\images\\frame_826_png.rf.162eba421f8439783f63ac4db560ffbb.jpg: 800x800 (no detections), 163.7ms\n",
      "image 147/161 c:\\Users\\kikep\\OneDrive\\Documentos\\Insper_Data\\2024.2\\car-counter\\Car-Counter-3\\test\\images\\frame_830_png.rf.b873cdf1ba76122bc891680db1ef3ce5.jpg: 800x800 1 car, 179.9ms\n",
      "image 148/161 c:\\Users\\kikep\\OneDrive\\Documentos\\Insper_Data\\2024.2\\car-counter\\Car-Counter-3\\test\\images\\frame_836_png.rf.03ac656ee9a8e6f46f0e7cdd2fcea225.jpg: 800x800 1 car, 171.7ms\n",
      "image 149/161 c:\\Users\\kikep\\OneDrive\\Documentos\\Insper_Data\\2024.2\\car-counter\\Car-Counter-3\\test\\images\\frame_847_png.rf.c762776ea2cf2f16090aa7ffe57ac6cb.jpg: 800x800 (no detections), 173.7ms\n",
      "image 150/161 c:\\Users\\kikep\\OneDrive\\Documentos\\Insper_Data\\2024.2\\car-counter\\Car-Counter-3\\test\\images\\frame_854_png.rf.eb023998337ba8d4bdd8653c3af0957e.jpg: 800x800 1 car, 178.9ms\n",
      "image 151/161 c:\\Users\\kikep\\OneDrive\\Documentos\\Insper_Data\\2024.2\\car-counter\\Car-Counter-3\\test\\images\\frame_903_png.rf.9f9b0e23738e2e55eed4950fbff1349d.jpg: 800x800 2 motorbikes, 1 person, 147.7ms\n",
      "image 152/161 c:\\Users\\kikep\\OneDrive\\Documentos\\Insper_Data\\2024.2\\car-counter\\Car-Counter-3\\test\\images\\frame_926_png.rf.e6eb312e0c11d905f21d38ef87a7268b.jpg: 800x800 (no detections), 185.1ms\n",
      "image 153/161 c:\\Users\\kikep\\OneDrive\\Documentos\\Insper_Data\\2024.2\\car-counter\\Car-Counter-3\\test\\images\\frame_930_png.rf.ec90c37e4425a2e73fbdcc89ad2c3544.jpg: 800x800 (no detections), 164.1ms\n",
      "image 154/161 c:\\Users\\kikep\\OneDrive\\Documentos\\Insper_Data\\2024.2\\car-counter\\Car-Counter-3\\test\\images\\frame_932_png.rf.aca6eb00c277137ae78261c5c6244235.jpg: 800x800 (no detections), 154.6ms\n",
      "image 155/161 c:\\Users\\kikep\\OneDrive\\Documentos\\Insper_Data\\2024.2\\car-counter\\Car-Counter-3\\test\\images\\frame_93_png.rf.e5f8c60ed0c6c46c6e795fe1104d85f4.jpg: 800x800 2 cars, 1 person, 181.6ms\n",
      "image 156/161 c:\\Users\\kikep\\OneDrive\\Documentos\\Insper_Data\\2024.2\\car-counter\\Car-Counter-3\\test\\images\\frame_955_png.rf.85034073bcdd5b39ee9bc236dca52364.jpg: 800x800 (no detections), 180.0ms\n",
      "image 157/161 c:\\Users\\kikep\\OneDrive\\Documentos\\Insper_Data\\2024.2\\car-counter\\Car-Counter-3\\test\\images\\frame_961_png.rf.873c00032c3909a38dd3c6f23ba63175.jpg: 800x800 (no detections), 182.1ms\n",
      "image 158/161 c:\\Users\\kikep\\OneDrive\\Documentos\\Insper_Data\\2024.2\\car-counter\\Car-Counter-3\\test\\images\\frame_98_png.rf.e47a898c61bad98899d74ca55ff0b76e.jpg: 800x800 4 cars, 3 persons, 170.7ms\n",
      "image 159/161 c:\\Users\\kikep\\OneDrive\\Documentos\\Insper_Data\\2024.2\\car-counter\\Car-Counter-3\\test\\images\\frame_998_png.rf.8d4e562cd46fe8172d4077cc138d1123.jpg: 800x800 (no detections), 162.9ms\n",
      "image 160/161 c:\\Users\\kikep\\OneDrive\\Documentos\\Insper_Data\\2024.2\\car-counter\\Car-Counter-3\\test\\images\\frame_999_png.rf.f33548a7fc00e89ec0ca10b1defaa650.jpg: 800x800 (no detections), 163.1ms\n",
      "image 161/161 c:\\Users\\kikep\\OneDrive\\Documentos\\Insper_Data\\2024.2\\car-counter\\Car-Counter-3\\test\\images\\frame_9_png.rf.059491e4ffafc6f21f691d7a447c191d.jpg: 800x800 3 persons, 179.5ms\n",
      "Speed: 4.5ms preprocess, 176.0ms inference, 0.9ms postprocess per image at shape (1, 3, 800, 800)\n",
      "Results saved to \u001b[1mC:\\Users\\kikep\\OneDrive\\Documentos\\Insper_Data\\2024.2\\car-counter\\runs\\detect\\predict\u001b[0m\n",
      "💡 Learn more at https://docs.ultralytics.com/modes/predict\n"
     ]
    }
   ],
   "source": [
    "!yolo task=detect mode=predict model=C:\\Users\\kikep\\OneDrive\\Documentos\\Insper_Data\\2024.2\\car-counter\\runs\\detect\\train\\weights\\best.pt conf=0.35 source={dataset.location}/test/images"
   ]
  }
 ],
 "metadata": {
  "kernelspec": {
   "display_name": "env",
   "language": "python",
   "name": "python3"
  },
  "language_info": {
   "codemirror_mode": {
    "name": "ipython",
    "version": 3
   },
   "file_extension": ".py",
   "mimetype": "text/x-python",
   "name": "python",
   "nbconvert_exporter": "python",
   "pygments_lexer": "ipython3",
   "version": "3.11.4"
  }
 },
 "nbformat": 4,
 "nbformat_minor": 2
}
